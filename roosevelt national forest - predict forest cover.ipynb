{
 "cells": [
  {
   "cell_type": "code",
   "execution_count": 1,
   "metadata": {},
   "outputs": [],
   "source": [
    "%reset -f\n",
    "\n",
    "import warnings\n",
    "warnings.filterwarnings('ignore')\n",
    "\n",
    "import os\n",
    "os.chdir('D:\\Kaggle\\Kaggle - forest cover')\n",
    "\n",
    "import pandas as pd\n",
    "import numpy as np\n",
    "import matplotlib as mpl\n",
    "from IPython import display\n",
    "import seaborn as sns\n",
    "\n",
    "%matplotlib inline\n",
    "mpl.style.use('ggplot')\n",
    "sns.set_style('white')\n",
    "\n",
    "np.random.seed(123)"
   ]
  },
  {
   "cell_type": "code",
   "execution_count": 2,
   "metadata": {},
   "outputs": [],
   "source": [
    "# import training set\n",
    "train = pd.read_csv('train.csv')\n",
    "\n",
    "# import test set\n",
    "test  = pd.read_csv('test.csv')"
   ]
  },
  {
   "cell_type": "code",
   "execution_count": 3,
   "metadata": {},
   "outputs": [
    {
     "name": "stdout",
     "output_type": "stream",
     "text": [
      "(15120, 56)\n",
      "(565892, 55)\n"
     ]
    }
   ],
   "source": [
    "# view dimensions of training set\n",
    "print(train.shape)\n",
    "\n",
    "# view dimensions of test set\n",
    "print(test.shape)\n",
    "\n",
    "# extract target variable from training set\n",
    "target = train['Cover_Type']\n",
    "del train['Cover_Type']\n",
    "\n",
    "# extract Id from test set (for submission file later), then remove Id from training and test sets\n",
    "test_id = test['Id']\n",
    "del test['Id'], train['Id']\n",
    "\n",
    "# concatenate the rows of training and test sets\n",
    "full = pd.concat([train,test], axis='rows')"
   ]
  },
  {
   "cell_type": "code",
   "execution_count": 4,
   "metadata": {},
   "outputs": [
    {
     "name": "stdout",
     "output_type": "stream",
     "text": [
      "Elevation                             int64\n",
      "Aspect                                int64\n",
      "Slope                                 int64\n",
      "Horizontal_Distance_To_Hydrology      int64\n",
      "Vertical_Distance_To_Hydrology        int64\n",
      "Horizontal_Distance_To_Roadways       int64\n",
      "Hillshade_9am                         int64\n",
      "Hillshade_Noon                        int64\n",
      "Hillshade_3pm                         int64\n",
      "Horizontal_Distance_To_Fire_Points    int64\n",
      "Wilderness_Area1                      int64\n",
      "Wilderness_Area2                      int64\n",
      "Wilderness_Area3                      int64\n",
      "Wilderness_Area4                      int64\n",
      "Soil_Type1                            int64\n",
      "Soil_Type2                            int64\n",
      "Soil_Type3                            int64\n",
      "Soil_Type4                            int64\n",
      "Soil_Type5                            int64\n",
      "Soil_Type6                            int64\n",
      "Soil_Type7                            int64\n",
      "Soil_Type8                            int64\n",
      "Soil_Type9                            int64\n",
      "Soil_Type10                           int64\n",
      "Soil_Type11                           int64\n",
      "Soil_Type12                           int64\n",
      "Soil_Type13                           int64\n",
      "Soil_Type14                           int64\n",
      "Soil_Type15                           int64\n",
      "Soil_Type16                           int64\n",
      "Soil_Type17                           int64\n",
      "Soil_Type18                           int64\n",
      "Soil_Type19                           int64\n",
      "Soil_Type20                           int64\n",
      "Soil_Type21                           int64\n",
      "Soil_Type22                           int64\n",
      "Soil_Type23                           int64\n",
      "Soil_Type24                           int64\n",
      "Soil_Type25                           int64\n",
      "Soil_Type26                           int64\n",
      "Soil_Type27                           int64\n",
      "Soil_Type28                           int64\n",
      "Soil_Type29                           int64\n",
      "Soil_Type30                           int64\n",
      "Soil_Type31                           int64\n",
      "Soil_Type32                           int64\n",
      "Soil_Type33                           int64\n",
      "Soil_Type34                           int64\n",
      "Soil_Type35                           int64\n",
      "Soil_Type36                           int64\n",
      "Soil_Type37                           int64\n",
      "Soil_Type38                           int64\n",
      "Soil_Type39                           int64\n",
      "Soil_Type40                           int64\n",
      "dtype: object\n"
     ]
    }
   ],
   "source": [
    "# check the data type of each variable\n",
    "print(full.dtypes) # all integers"
   ]
  },
  {
   "cell_type": "code",
   "execution_count": 5,
   "metadata": {},
   "outputs": [
    {
     "name": "stdout",
     "output_type": "stream",
     "text": [
      "           Elevation         Aspect          Slope  \\\n",
      "count  581012.000000  581012.000000  581012.000000   \n",
      "mean     2959.365301     155.656807      14.103704   \n",
      "std       279.984734     111.913721       7.488242   \n",
      "min      1859.000000       0.000000       0.000000   \n",
      "25%      2809.000000      58.000000       9.000000   \n",
      "50%      2996.000000     127.000000      13.000000   \n",
      "75%      3163.000000     260.000000      18.000000   \n",
      "max      3858.000000     360.000000      66.000000   \n",
      "\n",
      "       Horizontal_Distance_To_Hydrology  Vertical_Distance_To_Hydrology  \\\n",
      "count                     581012.000000                   581012.000000   \n",
      "mean                         269.428217                       46.418855   \n",
      "std                          212.549356                       58.295232   \n",
      "min                            0.000000                     -173.000000   \n",
      "25%                          108.000000                        7.000000   \n",
      "50%                          218.000000                       30.000000   \n",
      "75%                          384.000000                       69.000000   \n",
      "max                         1397.000000                      601.000000   \n",
      "\n",
      "       Horizontal_Distance_To_Roadways  Hillshade_9am  Hillshade_Noon  \\\n",
      "count                    581012.000000  581012.000000   581012.000000   \n",
      "mean                       2350.146611     212.146049      223.318716   \n",
      "std                        1559.254870      26.769889       19.768697   \n",
      "min                           0.000000       0.000000        0.000000   \n",
      "25%                        1106.000000     198.000000      213.000000   \n",
      "50%                        1997.000000     218.000000      226.000000   \n",
      "75%                        3328.000000     231.000000      237.000000   \n",
      "max                        7117.000000     254.000000      254.000000   \n",
      "\n",
      "       Hillshade_3pm  Horizontal_Distance_To_Fire_Points  \n",
      "count  581012.000000                       581012.000000  \n",
      "mean      142.528263                         1980.291226  \n",
      "std        38.274529                         1324.195210  \n",
      "min         0.000000                            0.000000  \n",
      "25%       119.000000                         1024.000000  \n",
      "50%       143.000000                         1710.000000  \n",
      "75%       168.000000                         2550.000000  \n",
      "max       254.000000                         7173.000000  \n",
      "       Wilderness_Area1  Wilderness_Area2  Wilderness_Area3  Wilderness_Area4  \\\n",
      "count     581012.000000     581012.000000     581012.000000     581012.000000   \n",
      "mean           0.448865          0.051434          0.436074          0.063627   \n",
      "std            0.497379          0.220882          0.495897          0.244087   \n",
      "min            0.000000          0.000000          0.000000          0.000000   \n",
      "25%            0.000000          0.000000          0.000000          0.000000   \n",
      "50%            0.000000          0.000000          0.000000          0.000000   \n",
      "75%            1.000000          0.000000          1.000000          0.000000   \n",
      "max            1.000000          1.000000          1.000000          1.000000   \n",
      "\n",
      "          Soil_Type1     Soil_Type2     Soil_Type3     Soil_Type4  \\\n",
      "count  581012.000000  581012.000000  581012.000000  581012.000000   \n",
      "mean        0.005217       0.012952       0.008301       0.021335   \n",
      "std         0.072039       0.113066       0.090731       0.144499   \n",
      "min         0.000000       0.000000       0.000000       0.000000   \n",
      "25%         0.000000       0.000000       0.000000       0.000000   \n",
      "50%         0.000000       0.000000       0.000000       0.000000   \n",
      "75%         0.000000       0.000000       0.000000       0.000000   \n",
      "max         1.000000       1.000000       1.000000       1.000000   \n",
      "\n",
      "          Soil_Type5     Soil_Type6  \n",
      "count  581012.000000  581012.000000  \n",
      "mean        0.002749       0.011316  \n",
      "std         0.052356       0.105775  \n",
      "min         0.000000       0.000000  \n",
      "25%         0.000000       0.000000  \n",
      "50%         0.000000       0.000000  \n",
      "75%         0.000000       0.000000  \n",
      "max         1.000000       1.000000  \n",
      "          Soil_Type7     Soil_Type8     Soil_Type9    Soil_Type10  \\\n",
      "count  581012.000000  581012.000000  581012.000000  581012.000000   \n",
      "mean        0.000181       0.000308       0.001974       0.056168   \n",
      "std         0.013442       0.017550       0.044387       0.230245   \n",
      "min         0.000000       0.000000       0.000000       0.000000   \n",
      "25%         0.000000       0.000000       0.000000       0.000000   \n",
      "50%         0.000000       0.000000       0.000000       0.000000   \n",
      "75%         0.000000       0.000000       0.000000       0.000000   \n",
      "max         1.000000       1.000000       1.000000       1.000000   \n",
      "\n",
      "         Soil_Type11    Soil_Type12    Soil_Type13    Soil_Type14  \\\n",
      "count  581012.000000  581012.000000  581012.000000  581012.000000   \n",
      "mean        0.021359       0.051584       0.030001       0.001031   \n",
      "std         0.144579       0.221186       0.170590       0.032092   \n",
      "min         0.000000       0.000000       0.000000       0.000000   \n",
      "25%         0.000000       0.000000       0.000000       0.000000   \n",
      "50%         0.000000       0.000000       0.000000       0.000000   \n",
      "75%         0.000000       0.000000       0.000000       0.000000   \n",
      "max         1.000000       1.000000       1.000000       1.000000   \n",
      "\n",
      "         Soil_Type15    Soil_Type16  \n",
      "count  581012.000000  581012.000000  \n",
      "mean        0.000005       0.004897  \n",
      "std         0.002272       0.069804  \n",
      "min         0.000000       0.000000  \n",
      "25%         0.000000       0.000000  \n",
      "50%         0.000000       0.000000  \n",
      "75%         0.000000       0.000000  \n",
      "max         1.000000       1.000000  \n",
      "         Soil_Type17    Soil_Type18    Soil_Type19    Soil_Type20  \\\n",
      "count  581012.000000  581012.000000  581012.000000  581012.000000   \n",
      "mean        0.005890       0.003268       0.006921       0.015936   \n",
      "std         0.076518       0.057077       0.082902       0.125228   \n",
      "min         0.000000       0.000000       0.000000       0.000000   \n",
      "25%         0.000000       0.000000       0.000000       0.000000   \n",
      "50%         0.000000       0.000000       0.000000       0.000000   \n",
      "75%         0.000000       0.000000       0.000000       0.000000   \n",
      "max         1.000000       1.000000       1.000000       1.000000   \n",
      "\n",
      "         Soil_Type21    Soil_Type22    Soil_Type23    Soil_Type24  \\\n",
      "count  581012.000000  581012.000000  581012.000000  581012.000000   \n",
      "mean        0.001442       0.057439       0.099399       0.036622   \n",
      "std         0.037950       0.232681       0.299197       0.187833   \n",
      "min         0.000000       0.000000       0.000000       0.000000   \n",
      "25%         0.000000       0.000000       0.000000       0.000000   \n",
      "50%         0.000000       0.000000       0.000000       0.000000   \n",
      "75%         0.000000       0.000000       0.000000       0.000000   \n",
      "max         1.000000       1.000000       1.000000       1.000000   \n",
      "\n",
      "         Soil_Type25    Soil_Type26  \n",
      "count  581012.000000  581012.000000  \n",
      "mean        0.000816       0.004456  \n",
      "std         0.028551       0.066605  \n",
      "min         0.000000       0.000000  \n",
      "25%         0.000000       0.000000  \n",
      "50%         0.000000       0.000000  \n",
      "75%         0.000000       0.000000  \n",
      "max         1.000000       1.000000  \n",
      "         Soil_Type27    Soil_Type28    Soil_Type29    Soil_Type30  \\\n",
      "count  581012.000000  581012.000000  581012.000000  581012.000000   \n",
      "mean        0.001869       0.001628       0.198356       0.051927   \n",
      "std         0.043193       0.040318       0.398762       0.221879   \n",
      "min         0.000000       0.000000       0.000000       0.000000   \n",
      "25%         0.000000       0.000000       0.000000       0.000000   \n",
      "50%         0.000000       0.000000       0.000000       0.000000   \n",
      "75%         0.000000       0.000000       0.000000       0.000000   \n",
      "max         1.000000       1.000000       1.000000       1.000000   \n",
      "\n",
      "         Soil_Type31    Soil_Type32    Soil_Type33    Soil_Type34  \\\n",
      "count  581012.000000  581012.000000  581012.000000  581012.000000   \n",
      "mean        0.044175       0.090392       0.077716       0.002773   \n",
      "std         0.205483       0.286743       0.267725       0.052584   \n",
      "min         0.000000       0.000000       0.000000       0.000000   \n",
      "25%         0.000000       0.000000       0.000000       0.000000   \n",
      "50%         0.000000       0.000000       0.000000       0.000000   \n",
      "75%         0.000000       0.000000       0.000000       0.000000   \n",
      "max         1.000000       1.000000       1.000000       1.000000   \n",
      "\n",
      "         Soil_Type35    Soil_Type36  \n",
      "count  581012.000000  581012.000000  \n",
      "mean        0.003255       0.000205  \n",
      "std         0.056957       0.014310  \n",
      "min         0.000000       0.000000  \n",
      "25%         0.000000       0.000000  \n",
      "50%         0.000000       0.000000  \n",
      "75%         0.000000       0.000000  \n",
      "max         1.000000       1.000000  \n",
      "         Soil_Type37    Soil_Type38    Soil_Type39    Soil_Type40\n",
      "count  581012.000000  581012.000000  581012.000000  581012.000000\n",
      "mean        0.000513       0.026803       0.023762       0.015060\n",
      "std         0.022641       0.161508       0.152307       0.121791\n",
      "min         0.000000       0.000000       0.000000       0.000000\n",
      "25%         0.000000       0.000000       0.000000       0.000000\n",
      "50%         0.000000       0.000000       0.000000       0.000000\n",
      "75%         0.000000       0.000000       0.000000       0.000000\n",
      "max         1.000000       1.000000       1.000000       1.000000\n"
     ]
    }
   ],
   "source": [
    "# check for obvious data entry errors\n",
    "for i in range(0,51,10):\n",
    "    print(full.ix[:,i:i+10].describe()) # no obvious data entry errors"
   ]
  },
  {
   "cell_type": "code",
   "execution_count": 6,
   "metadata": {},
   "outputs": [
    {
     "name": "stdout",
     "output_type": "stream",
     "text": [
      "7    2160\n",
      "6    2160\n",
      "5    2160\n",
      "4    2160\n",
      "3    2160\n",
      "2    2160\n",
      "1    2160\n",
      "Name: Cover_Type, dtype: int64\n"
     ]
    }
   ],
   "source": [
    "# view the class frequencies of the target variable\n",
    "print(target.value_counts()) # classes are balanced"
   ]
  },
  {
   "cell_type": "code",
   "execution_count": 7,
   "metadata": {},
   "outputs": [
    {
     "name": "stdout",
     "output_type": "stream",
     "text": [
      "count        54\n",
      "unique        1\n",
      "top       False\n",
      "freq         54\n",
      "dtype: object\n",
      "--------------------------------------------------\n",
      "False\n"
     ]
    }
   ],
   "source": [
    "# check for missing values\n",
    "print(full.isnull().any().describe()) # no missing values among the features\n",
    "print('-'*50)\n",
    "print(target.isnull().any()) # no missing values in the target variable"
   ]
  },
  {
   "cell_type": "code",
   "execution_count": 8,
   "metadata": {},
   "outputs": [],
   "source": [
    "# create a variable that reflects the diagonal distance to hydrology\n",
    "full['diagonal_distance_to_hydrology'] = np.sqrt(full['Horizontal_Distance_To_Hydrology']**2 + full['Vertical_Distance_To_Hydrology']**2)\n",
    "\n",
    "# create a variable that reflects the mean horizontal distance from various amenities\n",
    "full['mean_horizontal_distance'] = full[['Horizontal_Distance_To_Hydrology','Horizontal_Distance_To_Fire_Points','Horizontal_Distance_To_Roadways']].mean(axis=1)\n",
    "\n",
    "# create a variable that reflects the mean hillshade\n",
    "full['mean_hillshade'] = full[['Hillshade_9am','Hillshade_Noon','Hillshade_3pm']].mean(axis=1)"
   ]
  },
  {
   "cell_type": "code",
   "execution_count": 9,
   "metadata": {},
   "outputs": [],
   "source": [
    "# split the full dataset into train and test sets\n",
    "train = full[:train.shape[0]]\n",
    "test = full[train.shape[0]:]"
   ]
  },
  {
   "cell_type": "code",
   "execution_count": 10,
   "metadata": {},
   "outputs": [
    {
     "name": "stdout",
     "output_type": "stream",
     "text": [
      "the mean training accuracy is: 1.0\n",
      "the mean validation accuracy is: 0.7866402116402116\n"
     ]
    },
    {
     "data": {
      "text/plain": [
       "<matplotlib.axes._subplots.AxesSubplot at 0x28c8484eda0>"
      ]
     },
     "execution_count": 10,
     "metadata": {},
     "output_type": "execute_result"
    },
    {
     "data": {
      "image/png": "[encoded data removed]",
      "text/plain": [
       "<Figure size 432x288 with 1 Axes>"
      ]
     },
     "metadata": {},
     "output_type": "display_data"
    }
   ],
   "source": [
    "# first model: random forest classifier\n",
    "from sklearn.ensemble import RandomForestClassifier\n",
    "from sklearn import model_selection\n",
    "\n",
    "# initialize a template for random forest, based on the parameters you want to set\n",
    "rfc = RandomForestClassifier(n_jobs = -1, # fully utilize the cores on your computer\n",
    "                             n_estimators = 200, # number of trees\n",
    "                             max_features = \"sqrt\", # number of features to consider at each split\n",
    "                             max_depth = train.shape[0]) # maximum tree depth\n",
    "\n",
    "# perform cross-validation\n",
    "rfc_cv = model_selection.cross_validate(rfc,\n",
    "                                        train,\n",
    "                                        target,\n",
    "                                        scoring = 'accuracy',\n",
    "                                        cv = 10)\n",
    "\n",
    "print(\"the mean training accuracy is:\", rfc_cv['train_score'].mean())\n",
    "print(\"the mean validation accuracy is:\", rfc_cv['test_score'].mean())\n",
    "\n",
    "# fit the random forest\n",
    "rfc_fitted = rfc.fit(train,target)\n",
    "\n",
    "# plot feature importance (as determined by the built random forest model)\n",
    "feature_importances = pd.Series(rfc_fitted.feature_importances_, index=train.columns)\n",
    "feature_importances = feature_importances.sort_values(ascending=False) # sort from highest to lowest importance\n",
    "feature_importances.nlargest(10).plot(kind='barh') # seems like elevation is by far the most useful predictor"
   ]
  },
  {
   "cell_type": "code",
   "execution_count": 11,
   "metadata": {},
   "outputs": [
    {
     "name": "stdout",
     "output_type": "stream",
     "text": [
      "the mean training accuracy is: 0.8006687242798354\n",
      "the mean validation accuracy is: 0.6951719576719577\n"
     ]
    }
   ],
   "source": [
    "# second model: artificial neural network\n",
    "from sklearn.neural_network import MLPClassifier\n",
    "\n",
    "# scale the features before feeding them into neural network\n",
    "from sklearn.preprocessing import StandardScaler\n",
    "\n",
    "scaled_train = StandardScaler().fit_transform(train)\n",
    "scaled_train = pd.DataFrame(scaled_train, columns=train.columns)\n",
    "\n",
    "scaled_test = StandardScaler().fit_transform(test)\n",
    "scaled_test = pd.DataFrame(scaled_test, columns=test.columns)\n",
    "\n",
    "# initialize a template for neural network, based on the parameters you want to set\n",
    "ann = MLPClassifier(hidden_layer_sizes = (int(scaled_train.shape[1]/2)), # number of neurons in the hidden layer(s)\n",
    "                    max_iter = 300) # max number of epochs\n",
    "\n",
    "# perform cross-validation\n",
    "ann_cv = model_selection.cross_validate(ann,\n",
    "                                        scaled_train,\n",
    "                                        target,\n",
    "                                        scoring = 'accuracy',\n",
    "                                        cv = 10)\n",
    "\n",
    "print(\"the mean training accuracy is:\", ann_cv['train_score'].mean())\n",
    "print(\"the mean validation accuracy is:\", ann_cv['test_score'].mean())\n",
    "\n",
    "# fit the neural network\n",
    "ann_fitted = ann.fit(scaled_train,target)"
   ]
  },
  {
   "cell_type": "code",
   "execution_count": 12,
   "metadata": {},
   "outputs": [
    {
     "name": "stderr",
     "output_type": "stream",
     "text": [
      "C:\\Users\\USER\\Anaconda3\\lib\\site-packages\\sklearn\\preprocessing\\label.py:151: DeprecationWarning: The truth value of an empty array is ambiguous. Returning False, but in future this will result in an error. Use `array.size > 0` to check that an array is not empty.\n",
      "  if diff:\n",
      "C:\\Users\\USER\\Anaconda3\\lib\\site-packages\\sklearn\\preprocessing\\label.py:151: DeprecationWarning: The truth value of an empty array is ambiguous. Returning False, but in future this will result in an error. Use `array.size > 0` to check that an array is not empty.\n",
      "  if diff:\n",
      "C:\\Users\\USER\\Anaconda3\\lib\\site-packages\\sklearn\\preprocessing\\label.py:151: DeprecationWarning: The truth value of an empty array is ambiguous. Returning False, but in future this will result in an error. Use `array.size > 0` to check that an array is not empty.\n",
      "  if diff:\n",
      "C:\\Users\\USER\\Anaconda3\\lib\\site-packages\\sklearn\\preprocessing\\label.py:151: DeprecationWarning: The truth value of an empty array is ambiguous. Returning False, but in future this will result in an error. Use `array.size > 0` to check that an array is not empty.\n",
      "  if diff:\n",
      "C:\\Users\\USER\\Anaconda3\\lib\\site-packages\\sklearn\\preprocessing\\label.py:151: DeprecationWarning: The truth value of an empty array is ambiguous. Returning False, but in future this will result in an error. Use `array.size > 0` to check that an array is not empty.\n",
      "  if diff:\n",
      "C:\\Users\\USER\\Anaconda3\\lib\\site-packages\\sklearn\\preprocessing\\label.py:151: DeprecationWarning: The truth value of an empty array is ambiguous. Returning False, but in future this will result in an error. Use `array.size > 0` to check that an array is not empty.\n",
      "  if diff:\n",
      "C:\\Users\\USER\\Anaconda3\\lib\\site-packages\\sklearn\\preprocessing\\label.py:151: DeprecationWarning: The truth value of an empty array is ambiguous. Returning False, but in future this will result in an error. Use `array.size > 0` to check that an array is not empty.\n",
      "  if diff:\n",
      "C:\\Users\\USER\\Anaconda3\\lib\\site-packages\\sklearn\\preprocessing\\label.py:151: DeprecationWarning: The truth value of an empty array is ambiguous. Returning False, but in future this will result in an error. Use `array.size > 0` to check that an array is not empty.\n",
      "  if diff:\n",
      "C:\\Users\\USER\\Anaconda3\\lib\\site-packages\\sklearn\\preprocessing\\label.py:151: DeprecationWarning: The truth value of an empty array is ambiguous. Returning False, but in future this will result in an error. Use `array.size > 0` to check that an array is not empty.\n",
      "  if diff:\n",
      "C:\\Users\\USER\\Anaconda3\\lib\\site-packages\\sklearn\\preprocessing\\label.py:151: DeprecationWarning: The truth value of an empty array is ambiguous. Returning False, but in future this will result in an error. Use `array.size > 0` to check that an array is not empty.\n",
      "  if diff:\n",
      "C:\\Users\\USER\\Anaconda3\\lib\\site-packages\\sklearn\\preprocessing\\label.py:151: DeprecationWarning: The truth value of an empty array is ambiguous. Returning False, but in future this will result in an error. Use `array.size > 0` to check that an array is not empty.\n",
      "  if diff:\n",
      "C:\\Users\\USER\\Anaconda3\\lib\\site-packages\\sklearn\\preprocessing\\label.py:151: DeprecationWarning: The truth value of an empty array is ambiguous. Returning False, but in future this will result in an error. Use `array.size > 0` to check that an array is not empty.\n",
      "  if diff:\n",
      "C:\\Users\\USER\\Anaconda3\\lib\\site-packages\\sklearn\\preprocessing\\label.py:151: DeprecationWarning: The truth value of an empty array is ambiguous. Returning False, but in future this will result in an error. Use `array.size > 0` to check that an array is not empty.\n",
      "  if diff:\n",
      "C:\\Users\\USER\\Anaconda3\\lib\\site-packages\\sklearn\\preprocessing\\label.py:151: DeprecationWarning: The truth value of an empty array is ambiguous. Returning False, but in future this will result in an error. Use `array.size > 0` to check that an array is not empty.\n",
      "  if diff:\n",
      "C:\\Users\\USER\\Anaconda3\\lib\\site-packages\\sklearn\\preprocessing\\label.py:151: DeprecationWarning: The truth value of an empty array is ambiguous. Returning False, but in future this will result in an error. Use `array.size > 0` to check that an array is not empty.\n",
      "  if diff:\n",
      "C:\\Users\\USER\\Anaconda3\\lib\\site-packages\\sklearn\\preprocessing\\label.py:151: DeprecationWarning: The truth value of an empty array is ambiguous. Returning False, but in future this will result in an error. Use `array.size > 0` to check that an array is not empty.\n",
      "  if diff:\n",
      "C:\\Users\\USER\\Anaconda3\\lib\\site-packages\\sklearn\\preprocessing\\label.py:151: DeprecationWarning: The truth value of an empty array is ambiguous. Returning False, but in future this will result in an error. Use `array.size > 0` to check that an array is not empty.\n",
      "  if diff:\n",
      "C:\\Users\\USER\\Anaconda3\\lib\\site-packages\\sklearn\\preprocessing\\label.py:151: DeprecationWarning: The truth value of an empty array is ambiguous. Returning False, but in future this will result in an error. Use `array.size > 0` to check that an array is not empty.\n",
      "  if diff:\n",
      "C:\\Users\\USER\\Anaconda3\\lib\\site-packages\\sklearn\\preprocessing\\label.py:151: DeprecationWarning: The truth value of an empty array is ambiguous. Returning False, but in future this will result in an error. Use `array.size > 0` to check that an array is not empty.\n",
      "  if diff:\n",
      "C:\\Users\\USER\\Anaconda3\\lib\\site-packages\\sklearn\\preprocessing\\label.py:151: DeprecationWarning: The truth value of an empty array is ambiguous. Returning False, but in future this will result in an error. Use `array.size > 0` to check that an array is not empty.\n",
      "  if diff:\n"
     ]
    },
    {
     "name": "stdout",
     "output_type": "stream",
     "text": [
      "the mean training accuracy is: 0.7877351557907113\n",
      "the mean validation accuracy is: 0.7018518518518518\n"
     ]
    },
    {
     "data": {
      "text/plain": [
       "<matplotlib.axes._subplots.AxesSubplot at 0x28c850fd358>"
      ]
     },
     "execution_count": 12,
     "metadata": {},
     "output_type": "execute_result"
    },
    {
     "data": {
      "image/png": "[encoded data removed]",
      "text/plain": [
       "<Figure size 432x288 with 1 Axes>"
      ]
     },
     "metadata": {},
     "output_type": "display_data"
    }
   ],
   "source": [
    "# third model: xgboost\n",
    "from xgboost import XGBClassifier\n",
    "\n",
    "# initialize a template for xgboost, based on the parameters you want to set\n",
    "xgb = XGBClassifier(objective = 'multi:softmax',\n",
    "                    learning_rate = 0.1,\n",
    "                    max_depth = 3,\n",
    "                    n_estimators = 100,\n",
    "                    silent = True,\n",
    "                    n_jobs = -1)\n",
    "\n",
    "# perform cross-validation\n",
    "xgb_cv = model_selection.cross_validate(xgb,\n",
    "                                        train,\n",
    "                                        target,\n",
    "                                        scoring = 'accuracy',\n",
    "                                        cv = 10)\n",
    "\n",
    "print(\"the mean training accuracy is:\", xgb_cv['train_score'].mean())\n",
    "print(\"the mean validation accuracy is:\", xgb_cv['test_score'].mean())\n",
    "\n",
    "# fit the xgboost model\n",
    "xgb_fitted = xgb.fit(train,target)\n",
    "\n",
    "# plot feature importance (as determined by the built xgboost model)\n",
    "from xgboost import plot_importance\n",
    "plot_importance(xgb_fitted,\n",
    "                max_num_features = 5) # show the top 5 most important features"
   ]
  },
  {
   "cell_type": "code",
   "execution_count": 13,
   "metadata": {},
   "outputs": [],
   "source": [
    "# seems like random forest is the best model; use it to make predictions\n",
    "predictions_rfc = rfc_fitted.predict(test)\n",
    "predictions_rfc = predictions_rfc.astype('int')\n",
    "\n",
    "submission_rfc = pd.DataFrame({'Id': test_id,\n",
    "                               'Cover_Type': predictions_rfc})\n",
    "submission_rfc.to_csv(\"sample_submission.csv\", index=False)"
   ]
  },
  {
   "cell_type": "code",
   "execution_count": null,
   "metadata": {},
   "outputs": [],
   "source": []
  },
  {
   "cell_type": "code",
   "execution_count": null,
   "metadata": {},
   "outputs": [],
   "source": []
  }
 ],
 "metadata": {
  "kernelspec": {
   "display_name": "Python 3",
   "language": "python",
   "name": "python3"
  },
  "language_info": {
   "codemirror_mode": {
    "name": "ipython",
    "version": 3
   },
   "file_extension": ".py",
   "mimetype": "text/x-python",
   "name": "python",
   "nbconvert_exporter": "python",
   "pygments_lexer": "ipython3",
   "version": "3.6.5"
  }
 },
 "nbformat": 4,
 "nbformat_minor": 2
}
